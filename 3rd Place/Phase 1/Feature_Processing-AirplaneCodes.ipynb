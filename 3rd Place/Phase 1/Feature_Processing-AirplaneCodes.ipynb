{
 "cells": [
  {
   "cell_type": "code",
   "execution_count": 2,
   "id": "60b72af1",
   "metadata": {
    "collapsed": false
   },
   "outputs": [],
   "source": [
    "import pandas as pd\n",
    "import numpy as np\n",
    "import time\n",
    "import warnings\n",
    "import os\n",
    "warnings.filterwarnings(\"ignore\", category=DeprecationWarning) \n",
    "warnings.simplefilter(action='ignore', category=FutureWarning)\n",
    "pd.options.mode.chained_assignment = None\n",
    "from helper import data_loader_train_labels, split_gufi, data_loader_submission_train_labels"
   ]
  },
  {
   "cell_type": "code",
   "execution_count": 3,
   "id": "9b315987",
   "metadata": {
    "collapsed": false
   },
   "outputs": [
    {
     "name": "stdout",
     "output_type": "stream",
     "text": [
      "Created the following dir: Inference_Extracted_Features/airplane_code_1683005181.9964302/\n"
     ]
    }
   ],
   "source": [
    "bool_submission_prep = 1\n",
    "\n",
    "# Set the save directory based on the flag (either for submission or training)\n",
    "if bool_submission_prep:\n",
    "    sav_dir = f\"Inference_Extracted_Features/airplane_code_{time.time()}/\"    \n",
    "else:\n",
    "    sav_dir = f\"Training_Extracted_Features/airplane_code_{time.time()}/\"\n",
    "\n",
    "# Set the directory from which data will be loaded\n",
    "load_dir = \"Data/\"\n",
    "\n",
    "# Create the save directory\n",
    "os.mkdir(f\"{sav_dir}\")\n",
    "\n",
    "# Print the created directory's name for confirmation\n",
    "print(f'Created the following dir: {sav_dir}')"
   ]
  },
  {
   "cell_type": "code",
   "execution_count": 3,
   "id": "29f60cb1-d282-4eae-86b7-8aaa1e69111c",
   "metadata": {
    "collapsed": false
   },
   "outputs": [
    {
     "name": "stdout",
     "output_type": "stream",
     "text": [
      "-----------------------------\n",
      "Doing airport: KATL\n",
      "Loading in dataframes for: KATL\n",
      "LOading from: Data/submission_data.csv\n",
      "Splitting airline code for: KATL\n",
      "-----------------------------\n",
      "Doing airport: KCLT\n",
      "Loading in dataframes for: KCLT\n",
      "LOading from: Data/submission_data.csv\n",
      "Splitting airline code for: KCLT\n",
      "-----------------------------\n",
      "Doing airport: KDEN\n",
      "Loading in dataframes for: KDEN\n",
      "LOading from: Data/submission_data.csv\n",
      "Splitting airline code for: KDEN\n",
      "-----------------------------\n",
      "Doing airport: KDFW\n",
      "Loading in dataframes for: KDFW\n",
      "LOading from: Data/submission_data.csv\n",
      "Splitting airline code for: KDFW\n",
      "-----------------------------\n",
      "Doing airport: KJFK\n",
      "Loading in dataframes for: KJFK\n",
      "LOading from: Data/submission_data.csv\n",
      "Splitting airline code for: KJFK\n",
      "-----------------------------\n",
      "Doing airport: KMEM\n",
      "Loading in dataframes for: KMEM\n",
      "LOading from: Data/submission_data.csv\n",
      "Splitting airline code for: KMEM\n",
      "-----------------------------\n",
      "Doing airport: KMIA\n",
      "Loading in dataframes for: KMIA\n",
      "LOading from: Data/submission_data.csv\n",
      "Splitting airline code for: KMIA\n",
      "-----------------------------\n",
      "Doing airport: KORD\n",
      "Loading in dataframes for: KORD\n",
      "LOading from: Data/submission_data.csv\n",
      "Splitting airline code for: KORD\n",
      "-----------------------------\n",
      "Doing airport: KPHX\n",
      "Loading in dataframes for: KPHX\n",
      "LOading from: Data/submission_data.csv\n",
      "Splitting airline code for: KPHX\n",
      "-----------------------------\n",
      "Doing airport: KSEA\n",
      "Loading in dataframes for: KSEA\n",
      "LOading from: Data/submission_data.csv\n",
      "Splitting airline code for: KSEA\n"
     ]
    }
   ],
   "source": [
    "# List of airports to process\n",
    "list_airports = [\"KATL\", \"KCLT\", \"KDEN\", \"KDFW\", \"KJFK\", \"KMEM\", \"KMIA\", \"KORD\", \"KPHX\", \"KSEA\"]\n",
    "\n",
    "# Process each airport\n",
    "for airport in list_airports:\n",
    "    print(f'-----------------------------')\n",
    "    print(f'Doing airport: {airport}')\n",
    "\n",
    "    # Load data for the current airport\n",
    "    print(f'Loading in dataframes for: {airport}')\n",
    "    if bool_submission_prep:\n",
    "        df_train_labels = data_loader_submission_train_labels(load_dir, airport)\n",
    "    else:\n",
    "        df_train_labels = data_loader_train_labels(load_dir, airport)\n",
    "        \n",
    "    # Create a deep copy of the DataFrame to avoid modifying the original data\n",
    "    df_train_labels_copy = df_train_labels.copy(deep = True)\n",
    "\n",
    "    # Split airline codes\n",
    "    print(f'Splitting airline code for: {airport}')\n",
    "    df_train_labels_copy = df_train_labels_copy.drop_duplicates(subset=\"gufi\")\n",
    "    df_train_labels_copy_no_dup = split_gufi(df_train_labels_copy)\n",
    "    x = df_train_labels_copy.airline_code.value_counts()\n",
    "\n",
    "    # Keep only the top 25 airline codes, and label the rest as 'Other'\n",
    "    airlines_to_keep = x.keys()[0:25]\n",
    "    df_train_labels_copy['airline_code'] = np.where(df_train_labels_copy['airline_code'].isin(airlines_to_keep), df_train_labels_copy['airline_code'], 'Other')\n",
    "\n",
    "    # One-hot encode the airline codes\n",
    "    one_hot_encoded = pd.get_dummies(df_train_labels_copy['airline_code'])\n",
    "    df_train_labels_copy = pd.concat([df_train_labels_copy, one_hot_encoded], axis=1)\n",
    "\n",
    "    # Save the processed data to a CSV file\n",
    "    cols_to_save = ['gufi', 'airport', 'Other']\n",
    "    cols_to_save.extend(airlines_to_keep)\n",
    "    df_train_labels_copy[cols_to_save].head()\n",
    "    df_train_labels_copy[cols_to_save].to_csv(f\"{sav_dir}gufi_{airport}_airlinecode.csv\", index = False)"
   ]
  }
 ],
 "metadata": {
  "kernelspec": {
   "argv": [
    "/home/robert/anaconda3/envs/pushback-3/bin/python",
    "-m",
    "ipykernel_launcher",
    "-f",
    "{connection_file}"
   ],
   "display_name": "Python 3 (ipykernel)",
   "env": null,
   "interrupt_mode": "signal",
   "language": "python",
   "metadata": {
    "debugger": true
   },
   "name": "python3"
  },
  "language_info": {
   "codemirror_mode": {
    "name": "ipython",
    "version": 3
   },
   "file_extension": ".py",
   "mimetype": "text/x-python",
   "name": "python",
   "nbconvert_exporter": "python",
   "pygments_lexer": "ipython3",
   "version": "3.9.16"
  },
  "name": "Feature_Processing-AirplaneCodes.ipynb"
 },
 "nbformat": 4,
 "nbformat_minor": 5
}
