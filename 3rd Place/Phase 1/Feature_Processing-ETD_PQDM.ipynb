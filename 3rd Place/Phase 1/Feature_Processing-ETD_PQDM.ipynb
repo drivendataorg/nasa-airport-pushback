{
 "cells": [
  {
   "cell_type": "code",
   "execution_count": 5,
   "id": "60b72af1",
   "metadata": {},
   "outputs": [],
   "source": [
    "import pandas as pd\n",
    "import numpy as np\n",
    "import time\n",
    "import warnings\n",
    "import os\n",
    "warnings.filterwarnings(\"ignore\", category=DeprecationWarning) \n",
    "warnings.simplefilter(action='ignore', category=FutureWarning)\n",
    "pd.set_option('display.max_rows', 100)\n",
    "pd.options.mode.chained_assignment = None\n",
    "from helper import extract_etd_curr_airport\n",
    "from pqdm.processes import pqdm"
   ]
  },
  {
   "cell_type": "code",
   "execution_count": 6,
   "id": "9b315987",
   "metadata": {},
   "outputs": [
    {
     "name": "stdout",
     "output_type": "stream",
     "text": [
      "Created the following dir: Training_Extracted_Features/etd_1682826724.5987983/\n"
     ]
    }
   ],
   "source": [
    "bool_submission_prep = 1\n",
    "\n",
    "# Set the save directory based on whether we are preparing for submission or not\n",
    "if bool_submission_prep:\n",
    "    save_dir = f\"Inference_Extracted_Features/etd_{time.time()}/\"    \n",
    "else:\n",
    "    save_dir = f\"Training_Extracted_Features/etd_{time.time()}/\"\n",
    "\n",
    "# Define the directory path for loading data\n",
    "load_dir = \"Data/\"\n",
    "\n",
    "# Create the save directory\n",
    "os.mkdir(f\"{save_dir}\")\n",
    "\n",
    "# Print the created directory path\n",
    "print(f'Created the following dir: {save_dir}')"
   ]
  },
  {
   "cell_type": "code",
   "execution_count": 7,
   "id": "c8ca953c",
   "metadata": {},
   "outputs": [
    {
     "name": "stderr",
     "output_type": "stream",
     "text": [
      "QUEUEING TASKS | : 100%|██████████| 10/10 [00:00<00:00, 413.33it/s]\n",
      "PROCESSING TASKS | :   0%|          | 0/10 [00:00<?, ?it/s]"
     ]
    },
    {
     "name": "stdout",
     "output_type": "stream",
     "text": [
      "Feature Engineering for: KMEM doing unique timestamp\n",
      "Feature Engineering for: KSEA doing unique timestamp\n",
      "Feature Engineering for: KMIA doing unique timestamp\n",
      "There were 4 gufis from train labels because they werent in etd\n",
      "---------KMEM: 0 out of 146140---------\n",
      "Feature Engineering for: KDEN doing unique timestamp\n",
      "Feature Engineering for: KJFK doing unique timestamp\n",
      "Feature Engineering for: KPHX doing unique timestamp\n",
      "Feature Engineering for: KCLT doing unique timestamp\n",
      "There were 0 gufis from train labels because they werent in etd\n",
      "There were 6 gufis from train labels because they werent in etd\n",
      "---------KSEA: 0 out of 275341---------\n",
      "---------KMIA: 0 out of 224418---------\n",
      "Feature Engineering for: KDFW doing unique timestamp\n",
      "Feature Engineering for: KORD doing unique timestamp\n",
      "Feature Engineering for: KATL doing unique timestamp\n",
      "There were 11 gufis from train labels because they werent in etd\n",
      "---------KJFK: 0 out of 196713---------\n",
      "There were 13 gufis from train labels because they werent in etd\n",
      "---------KPHX: 0 out of 268437---------\n",
      "There were 18 gufis from train labels because they werent in etd\n",
      "There were 9 gufis from train labels because they werent in etd\n",
      "---------KDEN: 0 out of 433869---------\n",
      "---------KCLT: 0 out of 366044---------\n",
      "There were 9 gufis from train labels because they werent in etd\n",
      "---------KORD: 0 out of 468694---------\n",
      "There were 6 gufis from train labels because they werent in etd\n",
      "---------KDFW: 0 out of 480332---------\n",
      "There were 3 gufis from train labels because they werent in etd\n",
      "---------KATL: 0 out of 519633---------\n",
      "---------KSEA: 9.08%---------\n",
      "---------KPHX: 9.31%---------\n",
      "---------KMIA: 11.14%---------\n",
      "---------KDEN: 5.76%---------\n",
      "---------KJFK: 12.71%---------\n",
      "---------KCLT: 6.83%---------\n",
      "---------KMEM: 17.11%---------\n",
      "---------KATL: 4.81%---------\n",
      "---------KDFW: 5.2%---------\n",
      "---------KORD: 5.33%---------\n",
      "---------KSEA: 18.16%---------\n",
      "---------KDEN: 11.52%---------\n",
      "---------KPHX: 18.63%---------\n",
      "---------KJFK: 25.42%---------\n",
      "---------KMIA: 22.28%---------\n",
      "---------KCLT: 13.66%---------\n",
      "---------KATL: 9.62%---------\n",
      "---------KDFW: 10.41%---------\n",
      "---------KORD: 10.67%---------\n",
      "---------KMEM: 34.21%---------\n",
      "---------KSEA: 27.24%---------\n",
      "---------KDEN: 17.29%---------\n",
      "---------KPHX: 27.94%---------\n",
      "---------KJFK: 38.13%---------\n",
      "---------KMIA: 33.42%---------\n",
      "---------KATL: 14.43%---------\n",
      "---------KCLT: 20.49%---------\n",
      "---------KDFW: 15.61%---------\n",
      "---------KORD: 16.0%---------\n",
      "---------KSEA: 36.32%---------\n",
      "---------KMEM: 51.32%---------\n",
      "---------KPHX: 37.25%---------\n",
      "---------KDEN: 23.05%---------\n",
      "---------KJFK: 50.84%---------\n",
      "---------KATL: 19.24%---------\n",
      "---------KMIA: 44.56%---------\n",
      "---------KCLT: 27.32%---------\n",
      "---------KORD: 21.34%---------\n",
      "---------KDFW: 20.82%---------\n",
      "---------KSEA: 45.4%---------\n",
      "---------KPHX: 46.57%---------\n",
      "---------KDEN: 28.81%---------\n",
      "---------KJFK: 63.54%---------\n",
      "---------KATL: 24.06%---------\n",
      "---------KMIA: 55.7%---------\n",
      "---------KMEM: 68.43%---------\n",
      "---------KCLT: 34.15%---------\n",
      "---------KORD: 26.67%---------\n",
      "---------KDFW: 26.02%---------\n",
      "---------KSEA: 54.48%---------\n",
      "---------KPHX: 55.88%---------\n",
      "---------KDEN: 34.57%---------\n",
      "---------KATL: 28.87%---------\n",
      "---------KJFK: 76.25%---------\n",
      "---------KMIA: 66.84%---------\n",
      "---------KCLT: 40.98%---------\n",
      "---------KORD: 32.0%---------\n",
      "---------KDFW: 31.23%---------\n",
      "---------KMEM: 85.53%---------\n",
      "---------KSEA: 63.56%---------\n",
      "---------KPHX: 65.19%---------\n",
      "---------KMIA: 77.98%---------\n",
      "---------KDEN: 40.33%---------\n",
      "---------KATL: 33.68%---------\n",
      "---------KJFK: 88.96%---------\n",
      "---------KCLT: 47.81%---------\n",
      "---------KORD: 37.34%---------\n"
     ]
    },
    {
     "name": "stderr",
     "output_type": "stream",
     "text": [
      "PROCESSING TASKS | :  10%|█         | 1/10 [19:36<2:56:25, 1176.12s/it]"
     ]
    },
    {
     "name": "stdout",
     "output_type": "stream",
     "text": [
      "---------KSEA: 72.64%---------\n",
      "---------KDFW: 36.43%---------\n"
     ]
    },
    {
     "name": "stderr",
     "output_type": "stream",
     "text": [
      "PROCESSING TASKS | :  20%|██        | 2/10 [21:03<1:11:24, 535.53s/it] "
     ]
    },
    {
     "name": "stdout",
     "output_type": "stream",
     "text": [
      "---------KMIA: 89.12%---------\n",
      "---------KPHX: 74.51%---------\n",
      "---------KCLT: 54.64%---------\n",
      "---------KATL: 38.49%---------\n",
      "---------KDEN: 46.1%---------\n",
      "---------KORD: 42.67%---------\n",
      "---------KSEA: 81.72%---------\n",
      "---------KDFW: 41.64%---------\n",
      "---------KCLT: 61.47%---------\n"
     ]
    },
    {
     "name": "stderr",
     "output_type": "stream",
     "text": [
      "PROCESSING TASKS | :  30%|███       | 3/10 [23:32<41:54, 359.16s/it]  "
     ]
    },
    {
     "name": "stdout",
     "output_type": "stream",
     "text": [
      "---------KPHX: 83.82%---------\n",
      "---------KATL: 43.3%---------\n",
      "---------KORD: 48.01%---------\n",
      "---------KDEN: 51.86%---------\n",
      "---------KSEA: 90.8%---------\n",
      "---------KDFW: 46.84%---------\n",
      "---------KCLT: 68.3%---------\n",
      "---------KATL: 48.11%---------\n",
      "---------KPHX: 93.13%---------\n",
      "---------KORD: 53.34%---------\n",
      "---------KDEN: 57.62%---------\n",
      "---------KSEA: 99.88%---------\n"
     ]
    },
    {
     "name": "stderr",
     "output_type": "stream",
     "text": [
      "PROCESSING TASKS | :  40%|████      | 4/10 [27:33<31:15, 312.66s/it]"
     ]
    },
    {
     "name": "stdout",
     "output_type": "stream",
     "text": [
      "---------KCLT: 75.13%---------\n",
      "---------KDFW: 52.05%---------\n"
     ]
    },
    {
     "name": "stderr",
     "output_type": "stream",
     "text": [
      "PROCESSING TASKS | :  50%|█████     | 5/10 [28:22<18:07, 217.56s/it]"
     ]
    },
    {
     "name": "stdout",
     "output_type": "stream",
     "text": [
      "---------KATL: 52.92%---------\n",
      "---------KORD: 58.67%---------\n",
      "---------KCLT: 81.96%---------\n",
      "---------KDEN: 63.38%---------\n",
      "---------KDFW: 57.25%---------\n",
      "---------KATL: 57.73%---------\n",
      "---------KORD: 64.01%---------\n",
      "---------KCLT: 88.79%---------\n",
      "---------KDEN: 69.15%---------\n",
      "---------KDFW: 62.46%---------\n",
      "---------KATL: 62.54%---------\n",
      "---------KCLT: 95.62%---------\n",
      "---------KORD: 69.34%---------\n",
      "---------KDEN: 74.91%---------\n"
     ]
    },
    {
     "name": "stderr",
     "output_type": "stream",
     "text": [
      "PROCESSING TASKS | :  60%|██████    | 6/10 [35:28<19:13, 288.43s/it]"
     ]
    },
    {
     "name": "stdout",
     "output_type": "stream",
     "text": [
      "---------KDFW: 67.66%---------\n",
      "---------KATL: 67.36%---------\n",
      "---------KORD: 74.68%---------\n",
      "---------KDEN: 80.67%---------\n",
      "---------KDFW: 72.87%---------\n",
      "---------KATL: 72.17%---------\n",
      "---------KORD: 80.01%---------\n",
      "---------KDEN: 86.43%---------\n",
      "---------KATL: 76.98%---------\n",
      "---------KDFW: 78.07%---------\n",
      "---------KORD: 85.34%---------\n",
      "---------KATL: 81.79%---------\n",
      "---------KDEN: 92.19%---------\n",
      "---------KDFW: 83.28%---------\n",
      "---------KORD: 90.68%---------\n",
      "---------KATL: 86.6%---------\n",
      "---------KDFW: 88.48%---------\n",
      "---------KDEN: 97.96%---------\n",
      "---------KORD: 96.01%---------\n"
     ]
    },
    {
     "name": "stderr",
     "output_type": "stream",
     "text": [
      "PROCESSING TASKS | :  70%|███████   | 7/10 [46:43<20:44, 414.73s/it]"
     ]
    },
    {
     "name": "stdout",
     "output_type": "stream",
     "text": [
      "---------KATL: 91.41%---------\n",
      "---------KDFW: 93.69%---------\n"
     ]
    },
    {
     "name": "stderr",
     "output_type": "stream",
     "text": [
      "PROCESSING TASKS | :  80%|████████  | 8/10 [48:13<10:22, 311.31s/it]"
     ]
    },
    {
     "name": "stdout",
     "output_type": "stream",
     "text": [
      "---------KATL: 96.22%---------\n",
      "---------KDFW: 98.89%---------\n"
     ]
    },
    {
     "name": "stderr",
     "output_type": "stream",
     "text": [
      "PROCESSING TASKS | : 100%|██████████| 10/10 [52:08<00:00, 312.88s/it]\n",
      "COLLECTING RESULTS | : 100%|██████████| 10/10 [00:00<00:00, 121222.66it/s]\n"
     ]
    }
   ],
   "source": [
    "# List of airport codes to be processed\n",
    "list_airports = [\"KATL\", \"KCLT\", \"KDEN\", \"KDFW\", \"KJFK\", \"KMEM\", \"KMIA\", \"KORD\", \"KPHX\", \"KSEA\"]\n",
    "\n",
    "# Initialize an empty list to store the arguments for each airport\n",
    "args = []\n",
    "\n",
    "# Iterate over the airport list and create a dictionary of arguments for each airport\n",
    "for each in list_airports:\n",
    "    args.append({\n",
    "        'curr_load_dir': load_dir,          # Directory where the data is loaded from\n",
    "        'sav_dir': save_dir,                # Directory where the results will be saved\n",
    "        'curr_airport': each,               # Current airport code being processed\n",
    "        'bool_submission_prep': bool_submission_prep  # Flag for submission preparation\n",
    "    })\n",
    "\n",
    "# Use pqdm to parallelize the processing of each airport, calling the extract_etd_curr_airport function\n",
    "# n_jobs is set to the number of airports, so each airport is processed simultaneously\n",
    "# argument_type is set to 'kwargs' to pass the arguments as keyword arguments to the function\n",
    "list_fin_dicts_2 = pqdm(args, extract_etd_curr_airport, n_jobs=len(list_airports), argument_type='kwargs')"
   ]
  }
 ],
 "metadata": {
  "kernelspec": {
   "display_name": "pushback_plane_tf",
   "language": "python",
   "name": "python3"
  },
  "language_info": {
   "codemirror_mode": {
    "name": "ipython",
    "version": 3
   },
   "file_extension": ".py",
   "mimetype": "text/x-python",
   "name": "python",
   "nbconvert_exporter": "python",
   "pygments_lexer": "ipython3",
   "version": "3.9.16"
  }
 },
 "nbformat": 4,
 "nbformat_minor": 5
}
